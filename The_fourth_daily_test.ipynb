{
  "nbformat": 4,
  "nbformat_minor": 0,
  "metadata": {
    "kernelspec": {
      "display_name": "Python 3",
      "language": "python",
      "name": "python3"
    },
    "language_info": {
      "codemirror_mode": {
        "name": "ipython",
        "version": 3
      },
      "file_extension": ".py",
      "mimetype": "text/x-python",
      "name": "python",
      "nbconvert_exporter": "python",
      "pygments_lexer": "ipython3",
      "version": "3.8.5"
    },
    "colab": {
      "name": "The fourth_daily test.ipynb",
      "provenance": [],
      "collapsed_sections": []
    }
  },
  "cells": [
    {
      "cell_type": "markdown",
      "metadata": {
        "id": "HNbSFr4GI6cq"
      },
      "source": [
        "### 1、Import tensorflow and use tensorflow to define a constant."
      ]
    },
    {
      "cell_type": "code",
      "metadata": {
        "id": "iYnUSsZOI6c_"
      },
      "source": [
        "import tensorflow as tf\n"
      ],
      "execution_count": 1,
      "outputs": []
    },
    {
      "cell_type": "code",
      "metadata": {
        "id": "4TFaZ3wXJLx5"
      },
      "source": [
        "hello = tf.constant(\"Hello, TF\")"
      ],
      "execution_count": 2,
      "outputs": []
    },
    {
      "cell_type": "markdown",
      "metadata": {
        "id": "GG70awGKI6dK"
      },
      "source": [
        "### 2、Use tensorflow to print 'Welcome to Huawei'."
      ]
    },
    {
      "cell_type": "code",
      "metadata": {
        "colab": {
          "base_uri": "https://localhost:8080/"
        },
        "id": "oTkKieu7I6dN",
        "outputId": "5e1c08ad-564d-4327-cfb1-5e14863195fa"
      },
      "source": [
        "session = tf.compat.v1.Session()\n",
        "tf.compat.v1.disable_eager_execution()\n",
        "hello = tf.constant('Welcome to Huawei')\n",
        "result = session.run(hello)\n",
        "print(result)\n",
        "session.close()"
      ],
      "execution_count": 9,
      "outputs": [
        {
          "output_type": "stream",
          "text": [
            "b'Welcome to Huawei'\n"
          ],
          "name": "stdout"
        }
      ]
    },
    {
      "cell_type": "markdown",
      "metadata": {
        "id": "EB3Ea5YEI6dO"
      },
      "source": [
        "### 3、Use tensorflow to define two numeric constants,then calculate them and print the result."
      ]
    },
    {
      "cell_type": "code",
      "metadata": {
        "colab": {
          "base_uri": "https://localhost:8080/"
        },
        "id": "Ayp0FUI7I6dP",
        "outputId": "1de4a3ba-4e9f-44f2-e5df-2494646c7b00"
      },
      "source": [
        "z = tf.constant(151)\n",
        "x = tf.constant(9)\n",
        "\n",
        "result = z * x\n",
        "with tf.compat.v1.Session() as sess:\n",
        "    print(sess.run(result))\n",
        "sess.close()"
      ],
      "execution_count": 11,
      "outputs": [
        {
          "output_type": "stream",
          "text": [
            "1359\n"
          ],
          "name": "stdout"
        }
      ]
    },
    {
      "cell_type": "markdown",
      "metadata": {
        "id": "KvxVBrVcI6dQ"
      },
      "source": [
        "### 4、Randomly generate two matrices using tensorflow, calculate and print the result of their multiplication."
      ]
    },
    {
      "cell_type": "code",
      "metadata": {
        "colab": {
          "base_uri": "https://localhost:8080/"
        },
        "id": "zSegO5LRI6dV",
        "outputId": "7afd4ca3-4822-433d-b91f-cbe52983d130"
      },
      "source": [
        "sess = tf.compat.v1.InteractiveSession()\n",
        "A = tf.Variable(tf.compat.v1.random_normal([3,4],mean=1.0, stddev=1.0))\n",
        "B = tf.Variable(tf.compat.v1.random_normal([4,3],mean=1.0, stddev=1.0))\n",
        "tf.compat.v1.global_variables_initializer().run()\n",
        "\n",
        "result = tf.matmul(A, B)\n",
        "print(result.eval())"
      ],
      "execution_count": 16,
      "outputs": [
        {
          "output_type": "stream",
          "text": [
            "[[6.152342  7.6678576 6.13227  ]\n",
            " [5.88733   6.8812056 5.5234337]\n",
            " [4.0370545 4.2839174 3.7387772]]\n"
          ],
          "name": "stdout"
        },
        {
          "output_type": "stream",
          "text": [
            "/usr/local/lib/python3.7/dist-packages/tensorflow/python/client/session.py:1761: UserWarning: An interactive session is already active. This can cause out-of-memory errors in some cases. You must explicitly call `InteractiveSession.close()` to release resources held by the other session(s).\n",
            "  warnings.warn('An interactive session is already active. This can '\n"
          ],
          "name": "stderr"
        }
      ]
    },
    {
      "cell_type": "markdown",
      "metadata": {
        "id": "iLW0dMxnI6da"
      },
      "source": [
        "### 5、Try to use your own handwriting number to do image recognition"
      ]
    },
    {
      "cell_type": "code",
      "metadata": {
        "id": "HkeRbxHXI6db"
      },
      "source": [
        "import numpy as np \n",
        "import matplotlib.pyplot as plt\n",
        "\n",
        "import tensorflow_datasets as tfds\n",
        "# Construct a tf.data.Dataset\n",
        "dataset = tfds.load(name=\"mnist\", split=tfds.Split.TRAIN)\n"
      ],
      "execution_count": 32,
      "outputs": []
    }
  ]
}